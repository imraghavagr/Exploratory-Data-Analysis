{
 "cells": [
  {
   "cell_type": "code",
   "execution_count": 1,
   "metadata": {},
   "outputs": [],
   "source": [
    "import pandas_profiling"
   ]
  },
  {
   "cell_type": "code",
   "execution_count": 2,
   "metadata": {},
   "outputs": [],
   "source": [
    "import seaborn as sns"
   ]
  },
  {
   "cell_type": "code",
   "execution_count": 8,
   "metadata": {},
   "outputs": [],
   "source": [
    "df = sns.load_dataset('tips')"
   ]
  },
  {
   "cell_type": "code",
   "execution_count": 9,
   "metadata": {},
   "outputs": [],
   "source": [
    "from pandas_profiling import ProfileReport"
   ]
  },
  {
   "cell_type": "code",
   "execution_count": 10,
   "metadata": {},
   "outputs": [],
   "source": [
    "profile = ProfileReport(df,explorative=True, dark_mode = True)"
   ]
  },
  {
   "cell_type": "code",
   "execution_count": 11,
   "metadata": {},
   "outputs": [
    {
     "name": "stderr",
     "output_type": "stream",
     "text": [
      "Summarize dataset: 100%|██████████| 29/29 [00:05<00:00,  4.84it/s, Completed]                     \n",
      "Generate report structure: 100%|██████████| 1/1 [00:03<00:00,  3.78s/it]\n",
      "Render HTML: 100%|██████████| 1/1 [00:00<00:00,  1.31it/s]\n",
      "Export report to file: 100%|██████████| 1/1 [00:00<00:00, 367.82it/s]\n"
     ]
    }
   ],
   "source": [
    "profile.to_file('output.html')"
   ]
  },
  {
   "cell_type": "code",
   "execution_count": null,
   "metadata": {},
   "outputs": [],
   "source": [
    "#dtale\n",
    "# !pip install dtale"
   ]
  },
  {
   "cell_type": "code",
   "execution_count": 12,
   "metadata": {},
   "outputs": [],
   "source": [
    "import dtale"
   ]
  },
  {
   "cell_type": "code",
   "execution_count": 13,
   "metadata": {},
   "outputs": [
    {
     "data": {
      "text/html": [
       "\n",
       "        <iframe\n",
       "            width=\"100%\"\n",
       "            height=\"475\"\n",
       "            src=\"http://pop-os:40000/dtale/iframe/1\"\n",
       "            frameborder=\"0\"\n",
       "            allowfullscreen\n",
       "            \n",
       "        ></iframe>\n",
       "        "
      ],
      "text/plain": [
       "<IPython.lib.display.IFrame at 0x7fe05d9e7520>"
      ]
     },
     "metadata": {},
     "output_type": "display_data"
    },
    {
     "data": {
      "text/plain": []
     },
     "execution_count": 13,
     "metadata": {},
     "output_type": "execute_result"
    }
   ],
   "source": [
    "dtale.show(df)"
   ]
  },
  {
   "cell_type": "code",
   "execution_count": 14,
   "metadata": {},
   "outputs": [],
   "source": [
    "# sweetviz"
   ]
  },
  {
   "cell_type": "code",
   "execution_count": 15,
   "metadata": {},
   "outputs": [
    {
     "name": "stdout",
     "output_type": "stream",
     "text": [
      "Collecting sweetviz\n",
      "  Downloading sweetviz-2.1.3-py3-none-any.whl (15.1 MB)\n",
      "\u001b[K     |████████████████████████████████| 15.1 MB 783 kB/s eta 0:00:01\n",
      "\u001b[?25hRequirement already satisfied: pandas!=1.0.0,!=1.0.1,!=1.0.2,>=0.25.3 in /home/raghav/anaconda3/envs/EDA_3.8/lib/python3.8/site-packages (from sweetviz) (1.4.1)\n",
      "Requirement already satisfied: scipy>=1.3.2 in /home/raghav/anaconda3/envs/EDA_3.8/lib/python3.8/site-packages (from sweetviz) (1.8.0)\n",
      "Requirement already satisfied: matplotlib>=3.1.3 in /home/raghav/anaconda3/envs/EDA_3.8/lib/python3.8/site-packages (from sweetviz) (3.5.1)\n",
      "Requirement already satisfied: numpy>=1.16.0 in /home/raghav/anaconda3/envs/EDA_3.8/lib/python3.8/site-packages (from sweetviz) (1.22.2)\n",
      "Requirement already satisfied: jinja2>=2.11.1 in /home/raghav/anaconda3/envs/EDA_3.8/lib/python3.8/site-packages (from sweetviz) (3.0.3)\n",
      "Requirement already satisfied: tqdm>=4.43.0 in /home/raghav/anaconda3/envs/EDA_3.8/lib/python3.8/site-packages (from sweetviz) (4.62.3)\n",
      "Collecting importlib-resources>=1.2.0\n",
      "  Downloading importlib_resources-5.4.0-py3-none-any.whl (28 kB)\n",
      "Collecting zipp>=3.1.0\n",
      "  Downloading zipp-3.7.0-py3-none-any.whl (5.3 kB)\n",
      "Requirement already satisfied: MarkupSafe>=2.0 in /home/raghav/anaconda3/envs/EDA_3.8/lib/python3.8/site-packages (from jinja2>=2.11.1->sweetviz) (2.0.1)\n",
      "Requirement already satisfied: cycler>=0.10 in /home/raghav/anaconda3/envs/EDA_3.8/lib/python3.8/site-packages (from matplotlib>=3.1.3->sweetviz) (0.11.0)\n",
      "Requirement already satisfied: packaging>=20.0 in /home/raghav/anaconda3/envs/EDA_3.8/lib/python3.8/site-packages (from matplotlib>=3.1.3->sweetviz) (21.3)\n",
      "Requirement already satisfied: pillow>=6.2.0 in /home/raghav/anaconda3/envs/EDA_3.8/lib/python3.8/site-packages (from matplotlib>=3.1.3->sweetviz) (9.0.1)\n",
      "Requirement already satisfied: python-dateutil>=2.7 in /home/raghav/anaconda3/envs/EDA_3.8/lib/python3.8/site-packages (from matplotlib>=3.1.3->sweetviz) (2.8.2)\n",
      "Requirement already satisfied: fonttools>=4.22.0 in /home/raghav/anaconda3/envs/EDA_3.8/lib/python3.8/site-packages (from matplotlib>=3.1.3->sweetviz) (4.29.1)\n",
      "Requirement already satisfied: pyparsing>=2.2.1 in /home/raghav/anaconda3/envs/EDA_3.8/lib/python3.8/site-packages (from matplotlib>=3.1.3->sweetviz) (3.0.7)\n",
      "Requirement already satisfied: kiwisolver>=1.0.1 in /home/raghav/anaconda3/envs/EDA_3.8/lib/python3.8/site-packages (from matplotlib>=3.1.3->sweetviz) (1.3.2)\n",
      "Requirement already satisfied: pytz>=2020.1 in /home/raghav/anaconda3/envs/EDA_3.8/lib/python3.8/site-packages (from pandas!=1.0.0,!=1.0.1,!=1.0.2,>=0.25.3->sweetviz) (2021.3)\n",
      "Requirement already satisfied: six>=1.5 in /home/raghav/anaconda3/envs/EDA_3.8/lib/python3.8/site-packages (from python-dateutil>=2.7->matplotlib>=3.1.3->sweetviz) (1.16.0)\n",
      "Installing collected packages: zipp, importlib-resources, sweetviz\n",
      "Successfully installed importlib-resources-5.4.0 sweetviz-2.1.3 zipp-3.7.0\n"
     ]
    }
   ],
   "source": [
    "! pip install sweetviz"
   ]
  },
  {
   "cell_type": "code",
   "execution_count": 16,
   "metadata": {},
   "outputs": [],
   "source": [
    "import sweetviz as sv"
   ]
  },
  {
   "cell_type": "code",
   "execution_count": null,
   "metadata": {},
   "outputs": [],
   "source": []
  },
  {
   "cell_type": "code",
   "execution_count": null,
   "metadata": {},
   "outputs": [],
   "source": []
  },
  {
   "cell_type": "code",
   "execution_count": null,
   "metadata": {},
   "outputs": [],
   "source": []
  }
 ],
 "metadata": {
  "interpreter": {
   "hash": "31f2aee4e71d21fbe5cf8b01ff0e069b9275f58929596ceb00d14d90e3e16cd6"
  },
  "kernelspec": {
   "display_name": "Python 3.8.10 64-bit",
   "language": "python",
   "name": "python3"
  },
  "language_info": {
   "codemirror_mode": {
    "name": "ipython",
    "version": 3
   },
   "file_extension": ".py",
   "mimetype": "text/x-python",
   "name": "python",
   "nbconvert_exporter": "python",
   "pygments_lexer": "ipython3",
   "version": "3.8.12"
  },
  "orig_nbformat": 4
 },
 "nbformat": 4,
 "nbformat_minor": 2
}
